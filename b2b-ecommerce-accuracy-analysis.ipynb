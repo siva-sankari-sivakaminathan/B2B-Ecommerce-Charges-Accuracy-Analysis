{
 "cells": [
  {
   "cell_type": "code",
   "execution_count": 1,
   "id": "2e875b1f",
   "metadata": {
    "_cell_guid": "b1076dfc-b9ad-4769-8c92-a6c4dae69d19",
    "_uuid": "8f2839f25d086af736a60e9eeb907d3b93b6e0e5",
    "execution": {
     "iopub.execute_input": "2024-08-08T11:16:14.668688Z",
     "iopub.status.busy": "2024-08-08T11:16:14.667707Z",
     "iopub.status.idle": "2024-08-08T11:16:15.711278Z",
     "shell.execute_reply": "2024-08-08T11:16:15.709727Z"
    },
    "papermill": {
     "duration": 1.059103,
     "end_time": "2024-08-08T11:16:15.714067",
     "exception": false,
     "start_time": "2024-08-08T11:16:14.654964",
     "status": "completed"
    },
    "tags": []
   },
   "outputs": [
    {
     "name": "stdout",
     "output_type": "stream",
     "text": [
      "/kaggle/input/b2b-ecommerce-dataset-charges-accuracy-analysis/Company ABC - Pincode Zones.csv\n",
      "/kaggle/input/b2b-ecommerce-dataset-charges-accuracy-analysis/Courier Company - Rates.csv\n",
      "/kaggle/input/b2b-ecommerce-dataset-charges-accuracy-analysis/Company ABC - SKU Master.csv\n",
      "/kaggle/input/b2b-ecommerce-dataset-charges-accuracy-analysis/Company ABC- Order Report.csv\n",
      "/kaggle/input/b2b-ecommerce-dataset-charges-accuracy-analysis/Courier Company - Invoice.csv\n"
     ]
    }
   ],
   "source": [
    "# This Python 3 environment comes with many helpful analytics libraries installed\n",
    "# It is defined by the kaggle/python Docker image: https://github.com/kaggle/docker-python\n",
    "# For example, here's several helpful packages to load\n",
    "\n",
    "import numpy as np # linear algebra\n",
    "import pandas as pd # data processing, CSV file I/O (e.g. pd.read_csv)\n",
    "\n",
    "# Input data files are available in the read-only \"../input/\" directory\n",
    "# For example, running this (by clicking run or pressing Shift+Enter) will list all files under the input directory\n",
    "\n",
    "import os\n",
    "for dirname, _, filenames in os.walk('/kaggle/input'):\n",
    "    for filename in filenames:\n",
    "        print(os.path.join(dirname, filename))\n",
    "\n",
    "# You can write up to 20GB to the current directory (/kaggle/working/) that gets preserved as output when you create a version using \"Save & Run All\" \n",
    "# You can also write temporary files to /kaggle/temp/, but they won't be saved outside of the current session"
   ]
  },
  {
   "cell_type": "code",
   "execution_count": 2,
   "id": "7289c37d",
   "metadata": {
    "execution": {
     "iopub.execute_input": "2024-08-08T11:16:15.737320Z",
     "iopub.status.busy": "2024-08-08T11:16:15.736766Z",
     "iopub.status.idle": "2024-08-08T11:16:15.785130Z",
     "shell.execute_reply": "2024-08-08T11:16:15.783793Z"
    },
    "papermill": {
     "duration": 0.063482,
     "end_time": "2024-08-08T11:16:15.788070",
     "exception": false,
     "start_time": "2024-08-08T11:16:15.724588",
     "status": "completed"
    },
    "tags": []
   },
   "outputs": [],
   "source": [
    "#Load all datasets\n",
    "\n",
    "pincode_zones=pd.read_csv('/kaggle/input/b2b-ecommerce-dataset-charges-accuracy-analysis/Company ABC - Pincode Zones.csv')\n",
    "company_rates=pd.read_csv('/kaggle/input/b2b-ecommerce-dataset-charges-accuracy-analysis/Courier Company - Rates.csv')\n",
    "sku_master=pd.read_csv('/kaggle/input/b2b-ecommerce-dataset-charges-accuracy-analysis/Company ABC - SKU Master.csv')\n",
    "order_report=pd.read_csv('/kaggle/input/b2b-ecommerce-dataset-charges-accuracy-analysis/Company ABC- Order Report.csv')\n",
    "invoice=pd.read_csv('/kaggle/input/b2b-ecommerce-dataset-charges-accuracy-analysis/Courier Company - Invoice.csv')"
   ]
  },
  {
   "cell_type": "code",
   "execution_count": 3,
   "id": "c58f5025",
   "metadata": {
    "execution": {
     "iopub.execute_input": "2024-08-08T11:16:15.811380Z",
     "iopub.status.busy": "2024-08-08T11:16:15.810503Z",
     "iopub.status.idle": "2024-08-08T11:16:15.845454Z",
     "shell.execute_reply": "2024-08-08T11:16:15.843744Z"
    },
    "papermill": {
     "duration": 0.049336,
     "end_time": "2024-08-08T11:16:15.848172",
     "exception": false,
     "start_time": "2024-08-08T11:16:15.798836",
     "status": "completed"
    },
    "tags": []
   },
   "outputs": [
    {
     "name": "stdout",
     "output_type": "stream",
     "text": [
      "Order Report:\n",
      "   ExternOrderNo          SKU  Order Qty\n",
      "0     2001827036  8.90422E+12        1.0\n",
      "1     2001827036  8.90422E+12        1.0\n",
      "2     2001827036  8.90422E+12        1.0\n",
      "3     2001827036  8.90422E+12        1.0\n",
      "4     2001827036  8.90422E+12        1.0\n",
      "\n",
      "SKU Master:\n",
      "           SKU  Weight (g)\n",
      "0  8.90422E+12         210\n",
      "1  8.90422E+12         165\n",
      "2  8.90422E+12         113\n",
      "3  8.90422E+12          65\n",
      "4  8.90422E+12         120\n",
      "\n",
      "Pincode Mapping:\n",
      "   Warehouse Pincode  Customer Pincode Zone\n",
      "0             121003            507101    d\n",
      "1             121003            486886    d\n",
      "2             121003            532484    d\n",
      "3             121003            143001    b\n",
      "4             121003            515591    d\n",
      "\n",
      "Courier Invoice:\n",
      "        AWB Code    Order ID  Charged Weight  Warehouse Pincode  \\\n",
      "0  1091117222124  2001806232            1.30             121003   \n",
      "1  1091117222194  2001806273            1.00             121003   \n",
      "2  1091117222931  2001806408            2.50             121003   \n",
      "3  1091117223244  2001806458            1.00             121003   \n",
      "4  1091117229345  2001807012            0.15             121003   \n",
      "\n",
      "   Customer Pincode Zone Type of Shipment  Billing Amount (Rs.)  \n",
      "0            507101    d  Forward charges                 135.0  \n",
      "1            486886    d  Forward charges                  90.2  \n",
      "2            532484    d  Forward charges                 224.6  \n",
      "3            143001    b  Forward charges                  61.3  \n",
      "4            515591    d  Forward charges                  45.4  \n",
      "\n",
      "Courier Company rates:\n",
      "   fwd_a_fixed  fwd_a_additional  fwd_b_fixed  fwd_b_additional  fwd_c_fixed  \\\n",
      "0         29.5              23.6           33              28.3         40.1   \n",
      "\n",
      "   fwd_c_additional  fwd_d_fixed  fwd_d_additional  fwd_e_fixed  \\\n",
      "0              38.9         45.4              44.8         56.6   \n",
      "\n",
      "   fwd_e_additional  rto_a_fixed  rto_a_additional  rto_b_fixed  \\\n",
      "0              55.5         13.6              23.6         20.5   \n",
      "\n",
      "   rto_b_additional  rto_c_fixed  rto_c_additional  rto_d_fixed  \\\n",
      "0              28.3         31.9              38.9         41.3   \n",
      "\n",
      "   rto_d_additional  rto_e_fixed  rto_e_additional  \n",
      "0              44.8         50.7              55.5  \n"
     ]
    }
   ],
   "source": [
    "print(\"Order Report:\")\n",
    "print(order_report.head())\n",
    "print(\"\\nSKU Master:\")\n",
    "print(sku_master.head())\n",
    "print(\"\\nPincode Mapping:\")\n",
    "print(pincode_zones.head())\n",
    "print(\"\\nCourier Invoice:\")\n",
    "print(invoice.head())\n",
    "print(\"\\nCourier Company rates:\")\n",
    "print(company_rates.head())\n"
   ]
  },
  {
   "cell_type": "code",
   "execution_count": 4,
   "id": "1b660ded",
   "metadata": {
    "execution": {
     "iopub.execute_input": "2024-08-08T11:16:15.871411Z",
     "iopub.status.busy": "2024-08-08T11:16:15.870581Z",
     "iopub.status.idle": "2024-08-08T11:16:15.888504Z",
     "shell.execute_reply": "2024-08-08T11:16:15.887170Z"
    },
    "papermill": {
     "duration": 0.03281,
     "end_time": "2024-08-08T11:16:15.891548",
     "exception": false,
     "start_time": "2024-08-08T11:16:15.858738",
     "status": "completed"
    },
    "tags": []
   },
   "outputs": [
    {
     "name": "stdout",
     "output_type": "stream",
     "text": [
      "\n",
      "Missing values in Website Order Report:\n",
      "ExternOrderNo    0\n",
      "SKU              0\n",
      "Order Qty        0\n",
      "dtype: int64\n",
      "\n",
      "Missing values in SKU Master:\n",
      "SKU           0\n",
      "Weight (g)    0\n",
      "dtype: int64\n",
      "\n",
      "Missing values in Pincode Mapping:\n",
      "Warehouse Pincode    0\n",
      "Customer Pincode     0\n",
      "Zone                 0\n",
      "dtype: int64\n",
      "\n",
      "Missing values in Courier Invoice:\n",
      "AWB Code                0\n",
      "Order ID                0\n",
      "Charged Weight          0\n",
      "Warehouse Pincode       0\n",
      "Customer Pincode        0\n",
      "Zone                    0\n",
      "Type of Shipment        0\n",
      "Billing Amount (Rs.)    0\n",
      "dtype: int64\n",
      "\n",
      "Missing values in courier company rates:\n",
      "fwd_a_fixed         0\n",
      "fwd_a_additional    0\n",
      "fwd_b_fixed         0\n",
      "fwd_b_additional    0\n",
      "fwd_c_fixed         0\n",
      "fwd_c_additional    0\n",
      "fwd_d_fixed         0\n",
      "fwd_d_additional    0\n",
      "fwd_e_fixed         0\n",
      "fwd_e_additional    0\n",
      "rto_a_fixed         0\n",
      "rto_a_additional    0\n",
      "rto_b_fixed         0\n",
      "rto_b_additional    0\n",
      "rto_c_fixed         0\n",
      "rto_c_additional    0\n",
      "rto_d_fixed         0\n",
      "rto_d_additional    0\n",
      "rto_e_fixed         0\n",
      "rto_e_additional    0\n",
      "dtype: int64\n"
     ]
    }
   ],
   "source": [
    "# Check for missing values\n",
    "print(\"\\nMissing values in Website Order Report:\")\n",
    "print(order_report.isnull().sum())\n",
    "print(\"\\nMissing values in SKU Master:\")\n",
    "print(sku_master.isnull().sum())\n",
    "print(\"\\nMissing values in Pincode Mapping:\")\n",
    "print(pincode_zones.isnull().sum())\n",
    "print(\"\\nMissing values in Courier Invoice:\")\n",
    "print(invoice.isnull().sum())\n",
    "print(\"\\nMissing values in courier company rates:\")\n",
    "print(company_rates.isnull().sum())"
   ]
  },
  {
   "cell_type": "markdown",
   "id": "97ac1a75",
   "metadata": {
    "papermill": {
     "duration": 0.010305,
     "end_time": "2024-08-08T11:16:15.912557",
     "exception": false,
     "start_time": "2024-08-08T11:16:15.902252",
     "status": "completed"
    },
    "tags": []
   },
   "source": [
    "SKU is a common field between order report and SKU master , lets merge this data for easy analysis"
   ]
  },
  {
   "cell_type": "code",
   "execution_count": 5,
   "id": "ad633056",
   "metadata": {
    "execution": {
     "iopub.execute_input": "2024-08-08T11:16:15.936930Z",
     "iopub.status.busy": "2024-08-08T11:16:15.936490Z",
     "iopub.status.idle": "2024-08-08T11:16:15.963013Z",
     "shell.execute_reply": "2024-08-08T11:16:15.961340Z"
    },
    "papermill": {
     "duration": 0.042111,
     "end_time": "2024-08-08T11:16:15.965875",
     "exception": false,
     "start_time": "2024-08-08T11:16:15.923764",
     "status": "completed"
    },
    "tags": []
   },
   "outputs": [
    {
     "name": "stdout",
     "output_type": "stream",
     "text": [
      "   ExternOrderNo          SKU  Order Qty  Weight (g)\n",
      "0     2001827036  8.90422E+12        1.0         210\n",
      "1     2001827036  8.90422E+12        1.0         165\n",
      "2     2001827036  8.90422E+12        1.0         113\n",
      "3     2001827036  8.90422E+12        1.0          65\n",
      "4     2001827036  8.90422E+12        1.0         120\n"
     ]
    }
   ],
   "source": [
    "new_order_report = pd.merge(order_report, sku_master, on='SKU')\n",
    "print(new_order_report.head())"
   ]
  },
  {
   "cell_type": "markdown",
   "id": "0b74ef7c",
   "metadata": {
    "papermill": {
     "duration": 0.010403,
     "end_time": "2024-08-08T11:16:15.987126",
     "exception": false,
     "start_time": "2024-08-08T11:16:15.976723",
     "status": "completed"
    },
    "tags": []
   },
   "source": [
    "ExternOrderNo is same as OrderID , let's rename the column"
   ]
  },
  {
   "cell_type": "code",
   "execution_count": 6,
   "id": "d4b85841",
   "metadata": {
    "execution": {
     "iopub.execute_input": "2024-08-08T11:16:16.011496Z",
     "iopub.status.busy": "2024-08-08T11:16:16.011090Z",
     "iopub.status.idle": "2024-08-08T11:16:16.019012Z",
     "shell.execute_reply": "2024-08-08T11:16:16.017875Z"
    },
    "papermill": {
     "duration": 0.022892,
     "end_time": "2024-08-08T11:16:16.021793",
     "exception": false,
     "start_time": "2024-08-08T11:16:15.998901",
     "status": "completed"
    },
    "tags": []
   },
   "outputs": [],
   "source": [
    "new_order_report = new_order_report.rename(columns={'ExternOrderNo': 'Order ID'})"
   ]
  },
  {
   "cell_type": "markdown",
   "id": "83a17aef",
   "metadata": {
    "papermill": {
     "duration": 0.010432,
     "end_time": "2024-08-08T11:16:16.043388",
     "exception": false,
     "start_time": "2024-08-08T11:16:16.032956",
     "status": "completed"
    },
    "tags": []
   },
   "source": [
    "We can do a pincode mapping with the invoice dataset.\n",
    "\n",
    "To do , lets extract the unique pincodes from pincode_zones"
   ]
  },
  {
   "cell_type": "code",
   "execution_count": 7,
   "id": "08801797",
   "metadata": {
    "execution": {
     "iopub.execute_input": "2024-08-08T11:16:16.067332Z",
     "iopub.status.busy": "2024-08-08T11:16:16.066143Z",
     "iopub.status.idle": "2024-08-08T11:16:16.077206Z",
     "shell.execute_reply": "2024-08-08T11:16:16.075920Z"
    },
    "papermill": {
     "duration": 0.025901,
     "end_time": "2024-08-08T11:16:16.080052",
     "exception": false,
     "start_time": "2024-08-08T11:16:16.054151",
     "status": "completed"
    },
    "tags": []
   },
   "outputs": [],
   "source": [
    "unique_pincodes = pincode_zones.drop_duplicates(subset=['Customer Pincode'])\n"
   ]
  },
  {
   "cell_type": "markdown",
   "id": "ffe6e1d9",
   "metadata": {
    "papermill": {
     "duration": 0.010471,
     "end_time": "2024-08-08T11:16:16.101374",
     "exception": false,
     "start_time": "2024-08-08T11:16:16.090903",
     "status": "completed"
    },
    "tags": []
   },
   "source": [
    "Let's extract only the needed columns from invoice and merge it with above dataframe"
   ]
  },
  {
   "cell_type": "code",
   "execution_count": 8,
   "id": "3e304d00",
   "metadata": {
    "execution": {
     "iopub.execute_input": "2024-08-08T11:16:16.124719Z",
     "iopub.status.busy": "2024-08-08T11:16:16.124285Z",
     "iopub.status.idle": "2024-08-08T11:16:16.131580Z",
     "shell.execute_reply": "2024-08-08T11:16:16.130371Z"
    },
    "papermill": {
     "duration": 0.022151,
     "end_time": "2024-08-08T11:16:16.134301",
     "exception": false,
     "start_time": "2024-08-08T11:16:16.112150",
     "status": "completed"
    },
    "tags": []
   },
   "outputs": [],
   "source": [
    "invoice_updated= invoice[['Order ID', 'Customer Pincode','Type of Shipment']]\n"
   ]
  },
  {
   "cell_type": "markdown",
   "id": "810dba0c",
   "metadata": {
    "papermill": {
     "duration": 0.010744,
     "end_time": "2024-08-08T11:16:16.155890",
     "exception": false,
     "start_time": "2024-08-08T11:16:16.145146",
     "status": "completed"
    },
    "tags": []
   },
   "source": [
    "Now let's merge above two dataframes to form a new dataframe as 'pincode_mapping'"
   ]
  },
  {
   "cell_type": "code",
   "execution_count": 9,
   "id": "e9808da6",
   "metadata": {
    "execution": {
     "iopub.execute_input": "2024-08-08T11:16:16.180200Z",
     "iopub.status.busy": "2024-08-08T11:16:16.179686Z",
     "iopub.status.idle": "2024-08-08T11:16:16.190523Z",
     "shell.execute_reply": "2024-08-08T11:16:16.189251Z"
    },
    "papermill": {
     "duration": 0.026213,
     "end_time": "2024-08-08T11:16:16.193254",
     "exception": false,
     "start_time": "2024-08-08T11:16:16.167041",
     "status": "completed"
    },
    "tags": []
   },
   "outputs": [],
   "source": [
    "pincode_mapping=invoice_updated.merge(unique_pincodes,on='Customer Pincode')"
   ]
  },
  {
   "cell_type": "code",
   "execution_count": 10,
   "id": "50664e89",
   "metadata": {
    "execution": {
     "iopub.execute_input": "2024-08-08T11:16:16.217849Z",
     "iopub.status.busy": "2024-08-08T11:16:16.217460Z",
     "iopub.status.idle": "2024-08-08T11:16:16.236389Z",
     "shell.execute_reply": "2024-08-08T11:16:16.235042Z"
    },
    "papermill": {
     "duration": 0.034505,
     "end_time": "2024-08-08T11:16:16.239093",
     "exception": false,
     "start_time": "2024-08-08T11:16:16.204588",
     "status": "completed"
    },
    "tags": []
   },
   "outputs": [
    {
     "data": {
      "text/html": [
       "<div>\n",
       "<style scoped>\n",
       "    .dataframe tbody tr th:only-of-type {\n",
       "        vertical-align: middle;\n",
       "    }\n",
       "\n",
       "    .dataframe tbody tr th {\n",
       "        vertical-align: top;\n",
       "    }\n",
       "\n",
       "    .dataframe thead th {\n",
       "        text-align: right;\n",
       "    }\n",
       "</style>\n",
       "<table border=\"1\" class=\"dataframe\">\n",
       "  <thead>\n",
       "    <tr style=\"text-align: right;\">\n",
       "      <th></th>\n",
       "      <th>Order ID</th>\n",
       "      <th>Customer Pincode</th>\n",
       "      <th>Type of Shipment</th>\n",
       "      <th>Warehouse Pincode</th>\n",
       "      <th>Zone</th>\n",
       "    </tr>\n",
       "  </thead>\n",
       "  <tbody>\n",
       "    <tr>\n",
       "      <th>0</th>\n",
       "      <td>2001806232</td>\n",
       "      <td>507101</td>\n",
       "      <td>Forward charges</td>\n",
       "      <td>121003</td>\n",
       "      <td>d</td>\n",
       "    </tr>\n",
       "    <tr>\n",
       "      <th>1</th>\n",
       "      <td>2001806273</td>\n",
       "      <td>486886</td>\n",
       "      <td>Forward charges</td>\n",
       "      <td>121003</td>\n",
       "      <td>d</td>\n",
       "    </tr>\n",
       "    <tr>\n",
       "      <th>2</th>\n",
       "      <td>2001806408</td>\n",
       "      <td>532484</td>\n",
       "      <td>Forward charges</td>\n",
       "      <td>121003</td>\n",
       "      <td>d</td>\n",
       "    </tr>\n",
       "    <tr>\n",
       "      <th>3</th>\n",
       "      <td>2001806458</td>\n",
       "      <td>143001</td>\n",
       "      <td>Forward charges</td>\n",
       "      <td>121003</td>\n",
       "      <td>b</td>\n",
       "    </tr>\n",
       "    <tr>\n",
       "      <th>4</th>\n",
       "      <td>2001807012</td>\n",
       "      <td>515591</td>\n",
       "      <td>Forward charges</td>\n",
       "      <td>121003</td>\n",
       "      <td>d</td>\n",
       "    </tr>\n",
       "  </tbody>\n",
       "</table>\n",
       "</div>"
      ],
      "text/plain": [
       "     Order ID  Customer Pincode Type of Shipment  Warehouse Pincode Zone\n",
       "0  2001806232            507101  Forward charges             121003    d\n",
       "1  2001806273            486886  Forward charges             121003    d\n",
       "2  2001806408            532484  Forward charges             121003    d\n",
       "3  2001806458            143001  Forward charges             121003    b\n",
       "4  2001807012            515591  Forward charges             121003    d"
      ]
     },
     "execution_count": 10,
     "metadata": {},
     "output_type": "execute_result"
    }
   ],
   "source": [
    "pincode_mapping.head()"
   ]
  },
  {
   "cell_type": "markdown",
   "id": "fa27042e",
   "metadata": {
    "papermill": {
     "duration": 0.010708,
     "end_time": "2024-08-08T11:16:16.260660",
     "exception": false,
     "start_time": "2024-08-08T11:16:16.249952",
     "status": "completed"
    },
    "tags": []
   },
   "source": [
    "Now we can merge this with the new_order_report dataframe"
   ]
  },
  {
   "cell_type": "code",
   "execution_count": 11,
   "id": "76e68c1e",
   "metadata": {
    "execution": {
     "iopub.execute_input": "2024-08-08T11:16:16.284691Z",
     "iopub.status.busy": "2024-08-08T11:16:16.284323Z",
     "iopub.status.idle": "2024-08-08T11:16:16.299481Z",
     "shell.execute_reply": "2024-08-08T11:16:16.298247Z"
    },
    "papermill": {
     "duration": 0.03053,
     "end_time": "2024-08-08T11:16:16.302314",
     "exception": false,
     "start_time": "2024-08-08T11:16:16.271784",
     "status": "completed"
    },
    "tags": []
   },
   "outputs": [],
   "source": [
    "updated_order_report=new_order_report.merge(pincode_mapping,on='Order ID')"
   ]
  },
  {
   "cell_type": "markdown",
   "id": "97930bb0",
   "metadata": {
    "papermill": {
     "duration": 0.010819,
     "end_time": "2024-08-08T11:16:16.324149",
     "exception": false,
     "start_time": "2024-08-08T11:16:16.313330",
     "status": "completed"
    },
    "tags": []
   },
   "source": [
    "Let's see the final dataframes we are going to use for further analysis"
   ]
  },
  {
   "cell_type": "code",
   "execution_count": 12,
   "id": "54e82b69",
   "metadata": {
    "execution": {
     "iopub.execute_input": "2024-08-08T11:16:16.348892Z",
     "iopub.status.busy": "2024-08-08T11:16:16.347869Z",
     "iopub.status.idle": "2024-08-08T11:16:16.369835Z",
     "shell.execute_reply": "2024-08-08T11:16:16.368578Z"
    },
    "papermill": {
     "duration": 0.03799,
     "end_time": "2024-08-08T11:16:16.373514",
     "exception": false,
     "start_time": "2024-08-08T11:16:16.335524",
     "status": "completed"
    },
    "tags": []
   },
   "outputs": [
    {
     "name": "stdout",
     "output_type": "stream",
     "text": [
      "OrderReport:\n",
      "     Order ID          SKU  Order Qty  Weight (g)  Customer Pincode  \\\n",
      "0  2001827036  8.90422E+12        1.0         210            173213   \n",
      "1  2001827036  8.90422E+12        1.0         165            173213   \n",
      "2  2001827036  8.90422E+12        1.0         113            173213   \n",
      "3  2001827036  8.90422E+12        1.0          65            173213   \n",
      "4  2001827036  8.90422E+12        1.0         120            173213   \n",
      "\n",
      "  Type of Shipment  Warehouse Pincode Zone  \n",
      "0  Forward charges             121003    e  \n",
      "1  Forward charges             121003    e  \n",
      "2  Forward charges             121003    e  \n",
      "3  Forward charges             121003    e  \n",
      "4  Forward charges             121003    e  \n",
      "/n Invoice:\n",
      "        AWB Code    Order ID  Charged Weight  Warehouse Pincode  \\\n",
      "0  1091117222124  2001806232            1.30             121003   \n",
      "1  1091117222194  2001806273            1.00             121003   \n",
      "2  1091117222931  2001806408            2.50             121003   \n",
      "3  1091117223244  2001806458            1.00             121003   \n",
      "4  1091117229345  2001807012            0.15             121003   \n",
      "\n",
      "   Customer Pincode Zone Type of Shipment  Billing Amount (Rs.)  \n",
      "0            507101    d  Forward charges                 135.0  \n",
      "1            486886    d  Forward charges                  90.2  \n",
      "2            532484    d  Forward charges                 224.6  \n",
      "3            143001    b  Forward charges                  61.3  \n",
      "4            515591    d  Forward charges                  45.4  \n",
      "/n Company Rates:\n",
      "   fwd_a_fixed  fwd_a_additional  fwd_b_fixed  fwd_b_additional  fwd_c_fixed  \\\n",
      "0         29.5              23.6           33              28.3         40.1   \n",
      "\n",
      "   fwd_c_additional  fwd_d_fixed  fwd_d_additional  fwd_e_fixed  \\\n",
      "0              38.9         45.4              44.8         56.6   \n",
      "\n",
      "   fwd_e_additional  rto_a_fixed  rto_a_additional  rto_b_fixed  \\\n",
      "0              55.5         13.6              23.6         20.5   \n",
      "\n",
      "   rto_b_additional  rto_c_fixed  rto_c_additional  rto_d_fixed  \\\n",
      "0              28.3         31.9              38.9         41.3   \n",
      "\n",
      "   rto_d_additional  rto_e_fixed  rto_e_additional  \n",
      "0              44.8         50.7              55.5  \n"
     ]
    }
   ],
   "source": [
    "print('OrderReport:')\n",
    "print(updated_order_report.head())\n",
    "\n",
    "print('/n Invoice:')\n",
    "print(invoice.head())\n",
    "\n",
    "print('/n Company Rates:')\n",
    "print(company_rates.head())\n"
   ]
  },
  {
   "cell_type": "markdown",
   "id": "0c3d62ee",
   "metadata": {
    "papermill": {
     "duration": 0.011319,
     "end_time": "2024-08-08T11:16:16.396423",
     "exception": false,
     "start_time": "2024-08-08T11:16:16.385104",
     "status": "completed"
    },
    "tags": []
   },
   "source": [
    "Now let's change weights from gram to kg for a neat analysis and apply weight slabs to any weights column in the above dataframes"
   ]
  },
  {
   "cell_type": "code",
   "execution_count": 13,
   "id": "25d714bc",
   "metadata": {
    "execution": {
     "iopub.execute_input": "2024-08-08T11:16:16.421548Z",
     "iopub.status.busy": "2024-08-08T11:16:16.421149Z",
     "iopub.status.idle": "2024-08-08T11:16:16.428858Z",
     "shell.execute_reply": "2024-08-08T11:16:16.427729Z"
    },
    "papermill": {
     "duration": 0.023411,
     "end_time": "2024-08-08T11:16:16.431667",
     "exception": false,
     "start_time": "2024-08-08T11:16:16.408256",
     "status": "completed"
    },
    "tags": []
   },
   "outputs": [],
   "source": [
    "updated_order_report['Weights (Kgs)'] = updated_order_report['Weight (g)'] / 1000"
   ]
  },
  {
   "cell_type": "markdown",
   "id": "17e6f99b",
   "metadata": {
    "papermill": {
     "duration": 0.01076,
     "end_time": "2024-08-08T11:16:16.453516",
     "exception": false,
     "start_time": "2024-08-08T11:16:16.442756",
     "status": "completed"
    },
    "tags": []
   },
   "source": [
    "Below function first calculates the remainder of the weight divided by 1 and rounds it to one decimal place. \n",
    "\n",
    "If the remainder is 0.0, it means the weight is a multiple of 1 KG, and the function returns the weight as it is.\n",
    "\n",
    "If the remainder is greater than 0.5, it means that the weight exceeds the next half KG slab. \n",
    "\n",
    "In this case, the function rounds the weight to the nearest integer and adds 1.0 to it, which represents the next heavier slab.\n",
    "\n",
    "If the remainder is less than or equal to 0.5, it means the weight falls into the current half-KG bracket. \n",
    "\n",
    "In this case, the function rounds the weight to the nearest integer and adds 0.5 to it, which represents the current weight slab."
   ]
  },
  {
   "cell_type": "code",
   "execution_count": 14,
   "id": "cf3bd88a",
   "metadata": {
    "execution": {
     "iopub.execute_input": "2024-08-08T11:16:16.478770Z",
     "iopub.status.busy": "2024-08-08T11:16:16.478347Z",
     "iopub.status.idle": "2024-08-08T11:16:16.528874Z",
     "shell.execute_reply": "2024-08-08T11:16:16.527122Z"
    },
    "papermill": {
     "duration": 0.065949,
     "end_time": "2024-08-08T11:16:16.531917",
     "exception": false,
     "start_time": "2024-08-08T11:16:16.465968",
     "status": "completed"
    },
    "tags": []
   },
   "outputs": [],
   "source": [
    "def weight_slab(weight):\n",
    "    i = round(weight % 1, 1)\n",
    "    if i == 0.0:\n",
    "        return weight\n",
    "    elif i > 0.5:\n",
    "        return int(weight) + 1.0\n",
    "    else:\n",
    "        return int(weight) + 0.5\n",
    "\n",
    "updated_order_report['Weight Slab (KG)'] = updated_order_report['Weights (Kgs)'].apply(weight_slab)\n",
    "invoice['Weight Slab Charged']=(invoice['Charged Weight']).apply(weight_slab)"
   ]
  },
  {
   "cell_type": "markdown",
   "id": "31080551",
   "metadata": {
    "papermill": {
     "duration": 0.010975,
     "end_time": "2024-08-08T11:16:16.554337",
     "exception": false,
     "start_time": "2024-08-08T11:16:16.543362",
     "status": "completed"
    },
    "tags": []
   },
   "source": [
    "Let's rename columns for easy understanding"
   ]
  },
  {
   "cell_type": "code",
   "execution_count": 15,
   "id": "faf3ead5",
   "metadata": {
    "execution": {
     "iopub.execute_input": "2024-08-08T11:16:16.578468Z",
     "iopub.status.busy": "2024-08-08T11:16:16.578046Z",
     "iopub.status.idle": "2024-08-08T11:16:16.594185Z",
     "shell.execute_reply": "2024-08-08T11:16:16.592928Z"
    },
    "papermill": {
     "duration": 0.031663,
     "end_time": "2024-08-08T11:16:16.597119",
     "exception": false,
     "start_time": "2024-08-08T11:16:16.565456",
     "status": "completed"
    },
    "tags": []
   },
   "outputs": [],
   "source": [
    "invoice = invoice.rename(columns={'Zone': 'Delivery Zone Allocated by Courier Company'})\n",
    "updated_order_report = updated_order_report.rename(columns={'Zone': 'Delivery Zone As Per Company'})\n",
    "updated_order_report = updated_order_report.rename(columns={'Weight Slab (KG)': 'Weight Slab As Per Company'})"
   ]
  },
  {
   "cell_type": "markdown",
   "id": "72a09067",
   "metadata": {
    "papermill": {
     "duration": 0.010824,
     "end_time": "2024-08-08T11:16:16.619353",
     "exception": false,
     "start_time": "2024-08-08T11:16:16.608529",
     "status": "completed"
    },
    "tags": []
   },
   "source": [
    "Now let's calculate expected charges and then find difference in the charges made "
   ]
  },
  {
   "cell_type": "code",
   "execution_count": 16,
   "id": "4fff747a",
   "metadata": {
    "execution": {
     "iopub.execute_input": "2024-08-08T11:16:16.645251Z",
     "iopub.status.busy": "2024-08-08T11:16:16.643827Z",
     "iopub.status.idle": "2024-08-08T11:16:19.652076Z",
     "shell.execute_reply": "2024-08-08T11:16:19.650706Z"
    },
    "papermill": {
     "duration": 3.025034,
     "end_time": "2024-08-08T11:16:19.655545",
     "exception": false,
     "start_time": "2024-08-08T11:16:16.630511",
     "status": "completed"
    },
    "tags": []
   },
   "outputs": [
    {
     "name": "stdout",
     "output_type": "stream",
     "text": [
      "     Order ID          SKU  Order Qty  Weight (g)  Customer Pincode  \\\n",
      "0  2001827036  8.90422E+12        1.0         210            173213   \n",
      "1  2001827036  8.90422E+12        1.0         165            173213   \n",
      "2  2001827036  8.90422E+12        1.0         113            173213   \n",
      "3  2001827036  8.90422E+12        1.0          65            173213   \n",
      "4  2001827036  8.90422E+12        1.0         120            173213   \n",
      "\n",
      "  Type of Shipment  Warehouse Pincode Delivery Zone As Per Company  \\\n",
      "0  Forward charges             121003                            e   \n",
      "1  Forward charges             121003                            e   \n",
      "2  Forward charges             121003                            e   \n",
      "3  Forward charges             121003                            e   \n",
      "4  Forward charges             121003                            e   \n",
      "\n",
      "   Weights (Kgs)  Weight Slab As Per Company  Expected Charge as per company  \n",
      "0          0.210                         0.5                            56.6  \n",
      "1          0.165                         0.5                            56.6  \n",
      "2          0.113                         0.5                            56.6  \n",
      "3          0.065                         0.5                            56.6  \n",
      "4          0.120                         0.5                            56.6  \n"
     ]
    }
   ],
   "source": [
    "total_expected_charge = []\n",
    "\n",
    "#loop through each row of the ‘updated_order_report’ DataFrame to calculate the expected charges based on company’s tariffs\n",
    "\n",
    "for _, row in updated_order_report.iterrows():\n",
    "    \n",
    "    fwd_category = 'fwd_' + row['Delivery Zone As Per Company']\n",
    "    fwd_fixed = company_rates.at[0, fwd_category + '_fixed']\n",
    "    fwd_additional = company_rates.at[0, fwd_category + '_additional']\n",
    "    rto_category = 'rto_' + row['Delivery Zone As Per Company']\n",
    "    rto_fixed = company_rates.at[0, rto_category + '_fixed']\n",
    "    rto_additional = company_rates.at[0, rto_category + '_additional']\n",
    "\n",
    "    #determine the weight of the slab for each row\n",
    "    \n",
    "    weight_slab = row['Weight Slab As Per Company']\n",
    "    \n",
    "    #If the shipment type is ‘Forward Charges’, we calculate the additional weight beyond the basic weight slab (0.5 KG) and apply the corresponding additional charges.\n",
    "    #For “Forward and RTO Charges” shipments, we consider additional charges for term and RTO components.\n",
    "\n",
    "    if row['Type of Shipment'] == 'Forward charges':\n",
    "        additional_weight = max(0, (weight_slab - 0.5) / 0.5)\n",
    "        total_expected_charge.append(fwd_fixed + additional_weight * fwd_additional)\n",
    "    elif row['Type of Shipment'] == 'Forward and RTO charges':\n",
    "        additional_weight = max(0, (weight_slab - 0.5) / 0.5)\n",
    "        total_expected_charge.append(fwd_fixed + additional_weight * (fwd_additional + rto_additional))\n",
    "    else:\n",
    "        total_expected_charge.append(0)\n",
    "\n",
    "updated_order_report['Expected Charge as per company'] = total_expected_charge\n",
    "print(updated_order_report.head())"
   ]
  },
  {
   "cell_type": "markdown",
   "id": "0a61254f",
   "metadata": {
    "papermill": {
     "duration": 0.015533,
     "end_time": "2024-08-08T11:16:19.693822",
     "exception": false,
     "start_time": "2024-08-08T11:16:19.678289",
     "status": "completed"
    },
    "tags": []
   },
   "source": [
    "Let's merge the datasets to display final output"
   ]
  },
  {
   "cell_type": "code",
   "execution_count": 17,
   "id": "e9d58e68",
   "metadata": {
    "execution": {
     "iopub.execute_input": "2024-08-08T11:16:19.724944Z",
     "iopub.status.busy": "2024-08-08T11:16:19.724521Z",
     "iopub.status.idle": "2024-08-08T11:16:19.755671Z",
     "shell.execute_reply": "2024-08-08T11:16:19.754198Z"
    },
    "papermill": {
     "duration": 0.052816,
     "end_time": "2024-08-08T11:16:19.760084",
     "exception": false,
     "start_time": "2024-08-08T11:16:19.707268",
     "status": "completed"
    },
    "tags": []
   },
   "outputs": [
    {
     "name": "stdout",
     "output_type": "stream",
     "text": [
      "     Order ID          SKU  Order Qty  Weight (g)  Customer Pincode_x  \\\n",
      "0  2001827036  8.90422E+12        1.0         210              173213   \n",
      "1  2001827036  8.90422E+12        1.0         165              173213   \n",
      "2  2001827036  8.90422E+12        1.0         113              173213   \n",
      "3  2001827036  8.90422E+12        1.0          65              173213   \n",
      "4  2001827036  8.90422E+12        1.0         120              173213   \n",
      "\n",
      "  Type of Shipment_x  Warehouse Pincode_x Delivery Zone As Per Company  \\\n",
      "0    Forward charges               121003                            e   \n",
      "1    Forward charges               121003                            e   \n",
      "2    Forward charges               121003                            e   \n",
      "3    Forward charges               121003                            e   \n",
      "4    Forward charges               121003                            e   \n",
      "\n",
      "   Weights (Kgs)  Weight Slab As Per Company  Expected Charge as per company  \\\n",
      "0          0.210                         0.5                            56.6   \n",
      "1          0.165                         0.5                            56.6   \n",
      "2          0.113                         0.5                            56.6   \n",
      "3          0.065                         0.5                            56.6   \n",
      "4          0.120                         0.5                            56.6   \n",
      "\n",
      "        AWB Code  Charged Weight  Warehouse Pincode_y  Customer Pincode_y  \\\n",
      "0  1091122418320             1.6               121003              173213   \n",
      "1  1091122418320             1.6               121003              173213   \n",
      "2  1091122418320             1.6               121003              173213   \n",
      "3  1091122418320             1.6               121003              173213   \n",
      "4  1091122418320             1.6               121003              173213   \n",
      "\n",
      "  Delivery Zone Allocated by Courier Company Type of Shipment_y  \\\n",
      "0                                          b    Forward charges   \n",
      "1                                          b    Forward charges   \n",
      "2                                          b    Forward charges   \n",
      "3                                          b    Forward charges   \n",
      "4                                          b    Forward charges   \n",
      "\n",
      "   Billing Amount (Rs.)  Weight Slab Charged  \n",
      "0                 117.9                  2.0  \n",
      "1                 117.9                  2.0  \n",
      "2                 117.9                  2.0  \n",
      "3                 117.9                  2.0  \n",
      "4                 117.9                  2.0  \n"
     ]
    }
   ],
   "source": [
    "output = updated_order_report.merge(invoice, on='Order ID')\n",
    "print(output.head())"
   ]
  },
  {
   "cell_type": "markdown",
   "id": "aeb5a34b",
   "metadata": {
    "papermill": {
     "duration": 0.015407,
     "end_time": "2024-08-08T11:16:19.791509",
     "exception": false,
     "start_time": "2024-08-08T11:16:19.776102",
     "status": "completed"
    },
    "tags": []
   },
   "source": [
    "Now let's calculate the difference in charges"
   ]
  },
  {
   "cell_type": "code",
   "execution_count": 18,
   "id": "aecce600",
   "metadata": {
    "execution": {
     "iopub.execute_input": "2024-08-08T11:16:19.818132Z",
     "iopub.status.busy": "2024-08-08T11:16:19.817584Z",
     "iopub.status.idle": "2024-08-08T11:16:19.829649Z",
     "shell.execute_reply": "2024-08-08T11:16:19.828089Z"
    },
    "papermill": {
     "duration": 0.029353,
     "end_time": "2024-08-08T11:16:19.832414",
     "exception": false,
     "start_time": "2024-08-08T11:16:19.803061",
     "status": "completed"
    },
    "tags": []
   },
   "outputs": [
    {
     "name": "stdout",
     "output_type": "stream",
     "text": [
      "     Order ID  Difference (Rs.)  Expected Charge as per company\n",
      "0  2001827036              61.3                            56.6\n",
      "1  2001827036              61.3                            56.6\n",
      "2  2001827036              61.3                            56.6\n",
      "3  2001827036              61.3                            56.6\n",
      "4  2001827036              61.3                            56.6\n"
     ]
    }
   ],
   "source": [
    "output['Difference (Rs.)'] = output['Billing Amount (Rs.)'] - output['Expected Charge as per company']\n",
    "\n",
    "df_new = output[['Order ID', 'Difference (Rs.)', 'Expected Charge as per company']]\n",
    "\n",
    "print(df_new.head())"
   ]
  },
  {
   "cell_type": "markdown",
   "id": "ef6dec7d",
   "metadata": {
    "papermill": {
     "duration": 0.011717,
     "end_time": "2024-08-08T11:16:19.856916",
     "exception": false,
     "start_time": "2024-08-08T11:16:19.845199",
     "status": "completed"
    },
    "tags": []
   },
   "source": [
    "Now lets find the number of orders correctly charged or under charged or over charged"
   ]
  },
  {
   "cell_type": "code",
   "execution_count": 19,
   "id": "ab109adb",
   "metadata": {
    "execution": {
     "iopub.execute_input": "2024-08-08T11:16:19.882240Z",
     "iopub.status.busy": "2024-08-08T11:16:19.881788Z",
     "iopub.status.idle": "2024-08-08T11:16:19.901048Z",
     "shell.execute_reply": "2024-08-08T11:16:19.899535Z"
    },
    "papermill": {
     "duration": 0.035147,
     "end_time": "2024-08-08T11:16:19.903797",
     "exception": false,
     "start_time": "2024-08-08T11:16:19.868650",
     "status": "completed"
    },
    "tags": []
   },
   "outputs": [
    {
     "name": "stdout",
     "output_type": "stream",
     "text": [
      "                                         Description  Count  Amount (Rs.)\n",
      "0  Total Orders where ABC has been correctly charged    741       32427.3\n",
      "1        Total Orders where ABC has been overcharged  22339     1947835.8\n",
      "2       Total Orders where ABC has been undercharged    508      -13369.4\n"
     ]
    }
   ],
   "source": [
    "# Calculate the total orders in each category\n",
    "total_correctly_charged = len(df_new[df_new['Difference (Rs.)'] == 0])\n",
    "total_overcharged = len(df_new[df_new['Difference (Rs.)'] > 0])\n",
    "total_undercharged = len(df_new[df_new['Difference (Rs.)'] < 0])\n",
    "\n",
    "# Calculate the total amount in each category\n",
    "amount_overcharged = abs(df_new[df_new['Difference (Rs.)'] > 0]['Difference (Rs.)'].sum())\n",
    "amount_undercharged = df_new[df_new['Difference (Rs.)'] < 0]['Difference (Rs.)'].sum()\n",
    "amount_correctly_charged = df_new[df_new['Difference (Rs.)'] == 0]['Expected Charge as per company'].sum()\n",
    "\n",
    "# Create a new DataFrame for the summary\n",
    "summary_data = {'Description': ['Total Orders where ABC has been correctly charged',\n",
    "                                'Total Orders where ABC has been overcharged',\n",
    "                                'Total Orders where ABC has been undercharged'],\n",
    "                'Count': [total_correctly_charged, total_overcharged, total_undercharged],\n",
    "                'Amount (Rs.)': [amount_correctly_charged, amount_overcharged, amount_undercharged]}\n",
    "\n",
    "df_summary = pd.DataFrame(summary_data)\n",
    "\n",
    "print(df_summary)"
   ]
  },
  {
   "cell_type": "code",
   "execution_count": 20,
   "id": "41ac1496",
   "metadata": {
    "execution": {
     "iopub.execute_input": "2024-08-08T11:16:19.930299Z",
     "iopub.status.busy": "2024-08-08T11:16:19.929856Z",
     "iopub.status.idle": "2024-08-08T11:16:20.408196Z",
     "shell.execute_reply": "2024-08-08T11:16:20.407071Z"
    },
    "papermill": {
     "duration": 0.495503,
     "end_time": "2024-08-08T11:16:20.410920",
     "exception": false,
     "start_time": "2024-08-08T11:16:19.915417",
     "status": "completed"
    },
    "tags": []
   },
   "outputs": [
    {
     "data": {
      "text/html": [
       "        <script type=\"text/javascript\">\n",
       "        window.PlotlyConfig = {MathJaxConfig: 'local'};\n",
       "        if (window.MathJax && window.MathJax.Hub && window.MathJax.Hub.Config) {window.MathJax.Hub.Config({SVG: {font: \"STIX-Web\"}});}\n",
       "        if (typeof require !== 'undefined') {\n",
       "        require.undef(\"plotly\");\n",
       "        requirejs.config({\n",
       "            paths: {\n",
       "                'plotly': ['https://cdn.plot.ly/plotly-2.27.0.min']\n",
       "            }\n",
       "        });\n",
       "        require(['plotly'], function(Plotly) {\n",
       "            window._Plotly = Plotly;\n",
       "        });\n",
       "        }\n",
       "        </script>\n",
       "        "
      ]
     },
     "metadata": {},
     "output_type": "display_data"
    },
    {
     "data": {
      "text/html": [
       "<div>                            <div id=\"c454970a-bcca-4efd-9bbc-3150819da61a\" class=\"plotly-graph-div\" style=\"height:525px; width:100%;\"></div>            <script type=\"text/javascript\">                require([\"plotly\"], function(Plotly) {                    window.PLOTLYENV=window.PLOTLYENV || {};                                    if (document.getElementById(\"c454970a-bcca-4efd-9bbc-3150819da61a\")) {                    Plotly.newPlot(                        \"c454970a-bcca-4efd-9bbc-3150819da61a\",                        [{\"hole\":0.4,\"labels\":[\"Total Orders where ABC has been correctly charged\",\"Total Orders where ABC has been overcharged\",\"Total Orders where ABC has been undercharged\"],\"values\":[741,22339,508],\"type\":\"pie\"}],                        {\"template\":{\"data\":{\"histogram2dcontour\":[{\"type\":\"histogram2dcontour\",\"colorbar\":{\"outlinewidth\":0,\"ticks\":\"\"},\"colorscale\":[[0.0,\"#0d0887\"],[0.1111111111111111,\"#46039f\"],[0.2222222222222222,\"#7201a8\"],[0.3333333333333333,\"#9c179e\"],[0.4444444444444444,\"#bd3786\"],[0.5555555555555556,\"#d8576b\"],[0.6666666666666666,\"#ed7953\"],[0.7777777777777778,\"#fb9f3a\"],[0.8888888888888888,\"#fdca26\"],[1.0,\"#f0f921\"]]}],\"choropleth\":[{\"type\":\"choropleth\",\"colorbar\":{\"outlinewidth\":0,\"ticks\":\"\"}}],\"histogram2d\":[{\"type\":\"histogram2d\",\"colorbar\":{\"outlinewidth\":0,\"ticks\":\"\"},\"colorscale\":[[0.0,\"#0d0887\"],[0.1111111111111111,\"#46039f\"],[0.2222222222222222,\"#7201a8\"],[0.3333333333333333,\"#9c179e\"],[0.4444444444444444,\"#bd3786\"],[0.5555555555555556,\"#d8576b\"],[0.6666666666666666,\"#ed7953\"],[0.7777777777777778,\"#fb9f3a\"],[0.8888888888888888,\"#fdca26\"],[1.0,\"#f0f921\"]]}],\"heatmap\":[{\"type\":\"heatmap\",\"colorbar\":{\"outlinewidth\":0,\"ticks\":\"\"},\"colorscale\":[[0.0,\"#0d0887\"],[0.1111111111111111,\"#46039f\"],[0.2222222222222222,\"#7201a8\"],[0.3333333333333333,\"#9c179e\"],[0.4444444444444444,\"#bd3786\"],[0.5555555555555556,\"#d8576b\"],[0.6666666666666666,\"#ed7953\"],[0.7777777777777778,\"#fb9f3a\"],[0.8888888888888888,\"#fdca26\"],[1.0,\"#f0f921\"]]}],\"heatmapgl\":[{\"type\":\"heatmapgl\",\"colorbar\":{\"outlinewidth\":0,\"ticks\":\"\"},\"colorscale\":[[0.0,\"#0d0887\"],[0.1111111111111111,\"#46039f\"],[0.2222222222222222,\"#7201a8\"],[0.3333333333333333,\"#9c179e\"],[0.4444444444444444,\"#bd3786\"],[0.5555555555555556,\"#d8576b\"],[0.6666666666666666,\"#ed7953\"],[0.7777777777777778,\"#fb9f3a\"],[0.8888888888888888,\"#fdca26\"],[1.0,\"#f0f921\"]]}],\"contourcarpet\":[{\"type\":\"contourcarpet\",\"colorbar\":{\"outlinewidth\":0,\"ticks\":\"\"}}],\"contour\":[{\"type\":\"contour\",\"colorbar\":{\"outlinewidth\":0,\"ticks\":\"\"},\"colorscale\":[[0.0,\"#0d0887\"],[0.1111111111111111,\"#46039f\"],[0.2222222222222222,\"#7201a8\"],[0.3333333333333333,\"#9c179e\"],[0.4444444444444444,\"#bd3786\"],[0.5555555555555556,\"#d8576b\"],[0.6666666666666666,\"#ed7953\"],[0.7777777777777778,\"#fb9f3a\"],[0.8888888888888888,\"#fdca26\"],[1.0,\"#f0f921\"]]}],\"surface\":[{\"type\":\"surface\",\"colorbar\":{\"outlinewidth\":0,\"ticks\":\"\"},\"colorscale\":[[0.0,\"#0d0887\"],[0.1111111111111111,\"#46039f\"],[0.2222222222222222,\"#7201a8\"],[0.3333333333333333,\"#9c179e\"],[0.4444444444444444,\"#bd3786\"],[0.5555555555555556,\"#d8576b\"],[0.6666666666666666,\"#ed7953\"],[0.7777777777777778,\"#fb9f3a\"],[0.8888888888888888,\"#fdca26\"],[1.0,\"#f0f921\"]]}],\"mesh3d\":[{\"type\":\"mesh3d\",\"colorbar\":{\"outlinewidth\":0,\"ticks\":\"\"}}],\"scatter\":[{\"fillpattern\":{\"fillmode\":\"overlay\",\"size\":10,\"solidity\":0.2},\"type\":\"scatter\"}],\"parcoords\":[{\"type\":\"parcoords\",\"line\":{\"colorbar\":{\"outlinewidth\":0,\"ticks\":\"\"}}}],\"scatterpolargl\":[{\"type\":\"scatterpolargl\",\"marker\":{\"colorbar\":{\"outlinewidth\":0,\"ticks\":\"\"}}}],\"bar\":[{\"error_x\":{\"color\":\"#2a3f5f\"},\"error_y\":{\"color\":\"#2a3f5f\"},\"marker\":{\"line\":{\"color\":\"#E5ECF6\",\"width\":0.5},\"pattern\":{\"fillmode\":\"overlay\",\"size\":10,\"solidity\":0.2}},\"type\":\"bar\"}],\"scattergeo\":[{\"type\":\"scattergeo\",\"marker\":{\"colorbar\":{\"outlinewidth\":0,\"ticks\":\"\"}}}],\"scatterpolar\":[{\"type\":\"scatterpolar\",\"marker\":{\"colorbar\":{\"outlinewidth\":0,\"ticks\":\"\"}}}],\"histogram\":[{\"marker\":{\"pattern\":{\"fillmode\":\"overlay\",\"size\":10,\"solidity\":0.2}},\"type\":\"histogram\"}],\"scattergl\":[{\"type\":\"scattergl\",\"marker\":{\"colorbar\":{\"outlinewidth\":0,\"ticks\":\"\"}}}],\"scatter3d\":[{\"type\":\"scatter3d\",\"line\":{\"colorbar\":{\"outlinewidth\":0,\"ticks\":\"\"}},\"marker\":{\"colorbar\":{\"outlinewidth\":0,\"ticks\":\"\"}}}],\"scattermapbox\":[{\"type\":\"scattermapbox\",\"marker\":{\"colorbar\":{\"outlinewidth\":0,\"ticks\":\"\"}}}],\"scatterternary\":[{\"type\":\"scatterternary\",\"marker\":{\"colorbar\":{\"outlinewidth\":0,\"ticks\":\"\"}}}],\"scattercarpet\":[{\"type\":\"scattercarpet\",\"marker\":{\"colorbar\":{\"outlinewidth\":0,\"ticks\":\"\"}}}],\"carpet\":[{\"aaxis\":{\"endlinecolor\":\"#2a3f5f\",\"gridcolor\":\"white\",\"linecolor\":\"white\",\"minorgridcolor\":\"white\",\"startlinecolor\":\"#2a3f5f\"},\"baxis\":{\"endlinecolor\":\"#2a3f5f\",\"gridcolor\":\"white\",\"linecolor\":\"white\",\"minorgridcolor\":\"white\",\"startlinecolor\":\"#2a3f5f\"},\"type\":\"carpet\"}],\"table\":[{\"cells\":{\"fill\":{\"color\":\"#EBF0F8\"},\"line\":{\"color\":\"white\"}},\"header\":{\"fill\":{\"color\":\"#C8D4E3\"},\"line\":{\"color\":\"white\"}},\"type\":\"table\"}],\"barpolar\":[{\"marker\":{\"line\":{\"color\":\"#E5ECF6\",\"width\":0.5},\"pattern\":{\"fillmode\":\"overlay\",\"size\":10,\"solidity\":0.2}},\"type\":\"barpolar\"}],\"pie\":[{\"automargin\":true,\"type\":\"pie\"}]},\"layout\":{\"autotypenumbers\":\"strict\",\"colorway\":[\"#636efa\",\"#EF553B\",\"#00cc96\",\"#ab63fa\",\"#FFA15A\",\"#19d3f3\",\"#FF6692\",\"#B6E880\",\"#FF97FF\",\"#FECB52\"],\"font\":{\"color\":\"#2a3f5f\"},\"hovermode\":\"closest\",\"hoverlabel\":{\"align\":\"left\"},\"paper_bgcolor\":\"white\",\"plot_bgcolor\":\"#E5ECF6\",\"polar\":{\"bgcolor\":\"#E5ECF6\",\"angularaxis\":{\"gridcolor\":\"white\",\"linecolor\":\"white\",\"ticks\":\"\"},\"radialaxis\":{\"gridcolor\":\"white\",\"linecolor\":\"white\",\"ticks\":\"\"}},\"ternary\":{\"bgcolor\":\"#E5ECF6\",\"aaxis\":{\"gridcolor\":\"white\",\"linecolor\":\"white\",\"ticks\":\"\"},\"baxis\":{\"gridcolor\":\"white\",\"linecolor\":\"white\",\"ticks\":\"\"},\"caxis\":{\"gridcolor\":\"white\",\"linecolor\":\"white\",\"ticks\":\"\"}},\"coloraxis\":{\"colorbar\":{\"outlinewidth\":0,\"ticks\":\"\"}},\"colorscale\":{\"sequential\":[[0.0,\"#0d0887\"],[0.1111111111111111,\"#46039f\"],[0.2222222222222222,\"#7201a8\"],[0.3333333333333333,\"#9c179e\"],[0.4444444444444444,\"#bd3786\"],[0.5555555555555556,\"#d8576b\"],[0.6666666666666666,\"#ed7953\"],[0.7777777777777778,\"#fb9f3a\"],[0.8888888888888888,\"#fdca26\"],[1.0,\"#f0f921\"]],\"sequentialminus\":[[0.0,\"#0d0887\"],[0.1111111111111111,\"#46039f\"],[0.2222222222222222,\"#7201a8\"],[0.3333333333333333,\"#9c179e\"],[0.4444444444444444,\"#bd3786\"],[0.5555555555555556,\"#d8576b\"],[0.6666666666666666,\"#ed7953\"],[0.7777777777777778,\"#fb9f3a\"],[0.8888888888888888,\"#fdca26\"],[1.0,\"#f0f921\"]],\"diverging\":[[0,\"#8e0152\"],[0.1,\"#c51b7d\"],[0.2,\"#de77ae\"],[0.3,\"#f1b6da\"],[0.4,\"#fde0ef\"],[0.5,\"#f7f7f7\"],[0.6,\"#e6f5d0\"],[0.7,\"#b8e186\"],[0.8,\"#7fbc41\"],[0.9,\"#4d9221\"],[1,\"#276419\"]]},\"xaxis\":{\"gridcolor\":\"white\",\"linecolor\":\"white\",\"ticks\":\"\",\"title\":{\"standoff\":15},\"zerolinecolor\":\"white\",\"automargin\":true,\"zerolinewidth\":2},\"yaxis\":{\"gridcolor\":\"white\",\"linecolor\":\"white\",\"ticks\":\"\",\"title\":{\"standoff\":15},\"zerolinecolor\":\"white\",\"automargin\":true,\"zerolinewidth\":2},\"scene\":{\"xaxis\":{\"backgroundcolor\":\"#E5ECF6\",\"gridcolor\":\"white\",\"linecolor\":\"white\",\"showbackground\":true,\"ticks\":\"\",\"zerolinecolor\":\"white\",\"gridwidth\":2},\"yaxis\":{\"backgroundcolor\":\"#E5ECF6\",\"gridcolor\":\"white\",\"linecolor\":\"white\",\"showbackground\":true,\"ticks\":\"\",\"zerolinecolor\":\"white\",\"gridwidth\":2},\"zaxis\":{\"backgroundcolor\":\"#E5ECF6\",\"gridcolor\":\"white\",\"linecolor\":\"white\",\"showbackground\":true,\"ticks\":\"\",\"zerolinecolor\":\"white\",\"gridwidth\":2}},\"shapedefaults\":{\"line\":{\"color\":\"#2a3f5f\"}},\"annotationdefaults\":{\"arrowcolor\":\"#2a3f5f\",\"arrowhead\":0,\"arrowwidth\":1},\"geo\":{\"bgcolor\":\"white\",\"landcolor\":\"#E5ECF6\",\"subunitcolor\":\"white\",\"showland\":true,\"showlakes\":true,\"lakecolor\":\"white\"},\"title\":{\"x\":0.05},\"mapbox\":{\"style\":\"light\"}}},\"title\":{\"text\":\"Proportion\"}},                        {\"responsive\": true}                    ).then(function(){\n",
       "                            \n",
       "var gd = document.getElementById('c454970a-bcca-4efd-9bbc-3150819da61a');\n",
       "var x = new MutationObserver(function (mutations, observer) {{\n",
       "        var display = window.getComputedStyle(gd).display;\n",
       "        if (!display || display === 'none') {{\n",
       "            console.log([gd, 'removed!']);\n",
       "            Plotly.purge(gd);\n",
       "            observer.disconnect();\n",
       "        }}\n",
       "}});\n",
       "\n",
       "// Listen for the removal of the full notebook cells\n",
       "var notebookContainer = gd.closest('#notebook-container');\n",
       "if (notebookContainer) {{\n",
       "    x.observe(notebookContainer, {childList: true});\n",
       "}}\n",
       "\n",
       "// Listen for the clearing of the current output cell\n",
       "var outputEl = gd.closest('.output');\n",
       "if (outputEl) {{\n",
       "    x.observe(outputEl, {childList: true});\n",
       "}}\n",
       "\n",
       "                        })                };                });            </script>        </div>"
      ]
     },
     "metadata": {},
     "output_type": "display_data"
    }
   ],
   "source": [
    "import plotly.graph_objects as go\n",
    "fig = go.Figure(data=go.Pie(labels=df_summary['Description'],\n",
    "                            values=df_summary['Count'],\n",
    "                            hole=0.4))\n",
    "fig.update_layout(title='Proportion')\n",
    "\n",
    "fig.show()"
   ]
  }
 ],
 "metadata": {
  "kaggle": {
   "accelerator": "none",
   "dataSources": [
    {
     "datasetId": 5513191,
     "sourceId": 9131181,
     "sourceType": "datasetVersion"
    }
   ],
   "dockerImageVersionId": 30746,
   "isGpuEnabled": false,
   "isInternetEnabled": true,
   "language": "python",
   "sourceType": "notebook"
  },
  "kernelspec": {
   "display_name": "Python 3",
   "language": "python",
   "name": "python3"
  },
  "language_info": {
   "codemirror_mode": {
    "name": "ipython",
    "version": 3
   },
   "file_extension": ".py",
   "mimetype": "text/x-python",
   "name": "python",
   "nbconvert_exporter": "python",
   "pygments_lexer": "ipython3",
   "version": "3.10.13"
  },
  "papermill": {
   "default_parameters": {},
   "duration": 9.510054,
   "end_time": "2024-08-08T11:16:20.948220",
   "environment_variables": {},
   "exception": null,
   "input_path": "__notebook__.ipynb",
   "output_path": "__notebook__.ipynb",
   "parameters": {},
   "start_time": "2024-08-08T11:16:11.438166",
   "version": "2.5.0"
  }
 },
 "nbformat": 4,
 "nbformat_minor": 5
}
